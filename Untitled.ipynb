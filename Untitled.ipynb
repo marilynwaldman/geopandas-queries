{
 "cells": [
  {
   "cell_type": "code",
   "execution_count": 133,
   "id": "47c1d35f-cb74-496c-89d6-c06a48a26edd",
   "metadata": {},
   "outputs": [],
   "source": [
    "import pandas as pd\n",
    "import geopandas as gpd\n",
    "from shapely.geometry import Point, Polygon\n"
   ]
  },
  {
   "cell_type": "code",
   "execution_count": 92,
   "id": "e508f0e5-267e-4585-bcce-20ed5faa3864",
   "metadata": {},
   "outputs": [
    {
     "data": {
      "text/html": [
       "<div>\n",
       "<style scoped>\n",
       "    .dataframe tbody tr th:only-of-type {\n",
       "        vertical-align: middle;\n",
       "    }\n",
       "\n",
       "    .dataframe tbody tr th {\n",
       "        vertical-align: top;\n",
       "    }\n",
       "\n",
       "    .dataframe thead th {\n",
       "        text-align: right;\n",
       "    }\n",
       "</style>\n",
       "<table border=\"1\" class=\"dataframe\">\n",
       "  <thead>\n",
       "    <tr style=\"text-align: right;\">\n",
       "      <th></th>\n",
       "      <th>LONGNAME</th>\n",
       "      <th>SHORTNAME</th>\n",
       "      <th>DISTRICT</th>\n",
       "      <th>COLOR</th>\n",
       "      <th>TOTAL</th>\n",
       "      <th>TARGET_DEV</th>\n",
       "      <th>TOTALHISP</th>\n",
       "      <th>TOTALNH</th>\n",
       "      <th>WHITENH</th>\n",
       "      <th>BLACKNH</th>\n",
       "      <th>AIANNH</th>\n",
       "      <th>ASIANNH</th>\n",
       "      <th>HPINH</th>\n",
       "      <th>OTHERNH</th>\n",
       "      <th>MLTMNNH</th>\n",
       "      <th>LEGCOMMDIF</th>\n",
       "      <th>geometry</th>\n",
       "    </tr>\n",
       "  </thead>\n",
       "  <tbody>\n",
       "    <tr>\n",
       "      <th>0</th>\n",
       "      <td>District 1</td>\n",
       "      <td>D1</td>\n",
       "      <td>1</td>\n",
       "      <td>1321400960</td>\n",
       "      <td>721714</td>\n",
       "      <td>0</td>\n",
       "      <td>200616</td>\n",
       "      <td>521098</td>\n",
       "      <td>392965</td>\n",
       "      <td>67478</td>\n",
       "      <td>9289</td>\n",
       "      <td>35543</td>\n",
       "      <td>1769</td>\n",
       "      <td>9147</td>\n",
       "      <td>4907</td>\n",
       "      <td>-0.5707</td>\n",
       "      <td>POLYGON ((-104.91282 39.67847, -104.91280 39.6...</td>\n",
       "    </tr>\n",
       "    <tr>\n",
       "      <th>1</th>\n",
       "      <td>District 2</td>\n",
       "      <td>D2</td>\n",
       "      <td>2</td>\n",
       "      <td>1808188544</td>\n",
       "      <td>721714</td>\n",
       "      <td>0</td>\n",
       "      <td>102700</td>\n",
       "      <td>619014</td>\n",
       "      <td>549129</td>\n",
       "      <td>10283</td>\n",
       "      <td>10445</td>\n",
       "      <td>34145</td>\n",
       "      <td>1067</td>\n",
       "      <td>11776</td>\n",
       "      <td>2169</td>\n",
       "      <td>-0.3428</td>\n",
       "      <td>POLYGON ((-105.00796 40.00579, -105.00833 40.0...</td>\n",
       "    </tr>\n",
       "    <tr>\n",
       "      <th>2</th>\n",
       "      <td>District 3</td>\n",
       "      <td>D3</td>\n",
       "      <td>3</td>\n",
       "      <td>-598507392</td>\n",
       "      <td>721714</td>\n",
       "      <td>0</td>\n",
       "      <td>185794</td>\n",
       "      <td>535920</td>\n",
       "      <td>481566</td>\n",
       "      <td>8774</td>\n",
       "      <td>22011</td>\n",
       "      <td>9141</td>\n",
       "      <td>996</td>\n",
       "      <td>11369</td>\n",
       "      <td>2063</td>\n",
       "      <td>0.0913</td>\n",
       "      <td>POLYGON ((-106.50922 39.36230, -106.50238 39.3...</td>\n",
       "    </tr>\n",
       "    <tr>\n",
       "      <th>3</th>\n",
       "      <td>District 4</td>\n",
       "      <td>D4</td>\n",
       "      <td>4</td>\n",
       "      <td>15382912</td>\n",
       "      <td>721715</td>\n",
       "      <td>1</td>\n",
       "      <td>98443</td>\n",
       "      <td>623272</td>\n",
       "      <td>546774</td>\n",
       "      <td>16541</td>\n",
       "      <td>12630</td>\n",
       "      <td>33096</td>\n",
       "      <td>1170</td>\n",
       "      <td>10283</td>\n",
       "      <td>2778</td>\n",
       "      <td>0.2659</td>\n",
       "      <td>POLYGON ((-104.66064 39.56592, -104.66022 39.5...</td>\n",
       "    </tr>\n",
       "    <tr>\n",
       "      <th>4</th>\n",
       "      <td>District 5</td>\n",
       "      <td>D5</td>\n",
       "      <td>5</td>\n",
       "      <td>-125815155</td>\n",
       "      <td>721714</td>\n",
       "      <td>0</td>\n",
       "      <td>129138</td>\n",
       "      <td>592576</td>\n",
       "      <td>473462</td>\n",
       "      <td>50531</td>\n",
       "      <td>15055</td>\n",
       "      <td>31797</td>\n",
       "      <td>3776</td>\n",
       "      <td>10964</td>\n",
       "      <td>6991</td>\n",
       "      <td>0.2022</td>\n",
       "      <td>POLYGON ((-105.07254 38.80841, -105.07238 38.8...</td>\n",
       "    </tr>\n",
       "    <tr>\n",
       "      <th>5</th>\n",
       "      <td>District 6</td>\n",
       "      <td>D6</td>\n",
       "      <td>6</td>\n",
       "      <td>1326997120</td>\n",
       "      <td>721715</td>\n",
       "      <td>1</td>\n",
       "      <td>159407</td>\n",
       "      <td>562308</td>\n",
       "      <td>402961</td>\n",
       "      <td>80407</td>\n",
       "      <td>9802</td>\n",
       "      <td>51398</td>\n",
       "      <td>2328</td>\n",
       "      <td>9805</td>\n",
       "      <td>5607</td>\n",
       "      <td>-0.1517</td>\n",
       "      <td>POLYGON ((-104.76285 39.80016, -104.76284 39.8...</td>\n",
       "    </tr>\n",
       "    <tr>\n",
       "      <th>6</th>\n",
       "      <td>District 7</td>\n",
       "      <td>D7</td>\n",
       "      <td>7</td>\n",
       "      <td>59902592</td>\n",
       "      <td>721714</td>\n",
       "      <td>0</td>\n",
       "      <td>109185</td>\n",
       "      <td>612529</td>\n",
       "      <td>540492</td>\n",
       "      <td>13088</td>\n",
       "      <td>14336</td>\n",
       "      <td>29421</td>\n",
       "      <td>1074</td>\n",
       "      <td>11913</td>\n",
       "      <td>2205</td>\n",
       "      <td>-0.0684</td>\n",
       "      <td>POLYGON ((-105.05328 39.82003, -105.05325 39.8...</td>\n",
       "    </tr>\n",
       "    <tr>\n",
       "      <th>7</th>\n",
       "      <td>District 8</td>\n",
       "      <td>D8</td>\n",
       "      <td>8</td>\n",
       "      <td>-710280832</td>\n",
       "      <td>721714</td>\n",
       "      <td>0</td>\n",
       "      <td>278107</td>\n",
       "      <td>443607</td>\n",
       "      <td>373314</td>\n",
       "      <td>16519</td>\n",
       "      <td>12058</td>\n",
       "      <td>29288</td>\n",
       "      <td>1181</td>\n",
       "      <td>8725</td>\n",
       "      <td>2522</td>\n",
       "      <td>-0.0133</td>\n",
       "      <td>POLYGON ((-104.90730 40.40722, -104.90730 40.4...</td>\n",
       "    </tr>\n",
       "  </tbody>\n",
       "</table>\n",
       "</div>"
      ],
      "text/plain": [
       "     LONGNAME SHORTNAME  DISTRICT       COLOR   TOTAL  TARGET_DEV  TOTALHISP  \\\n",
       "0  District 1        D1         1  1321400960  721714           0     200616   \n",
       "1  District 2        D2         2  1808188544  721714           0     102700   \n",
       "2  District 3        D3         3  -598507392  721714           0     185794   \n",
       "3  District 4        D4         4    15382912  721715           1      98443   \n",
       "4  District 5        D5         5  -125815155  721714           0     129138   \n",
       "5  District 6        D6         6  1326997120  721715           1     159407   \n",
       "6  District 7        D7         7    59902592  721714           0     109185   \n",
       "7  District 8        D8         8  -710280832  721714           0     278107   \n",
       "\n",
       "   TOTALNH  WHITENH  BLACKNH  AIANNH  ASIANNH  HPINH  OTHERNH  MLTMNNH  \\\n",
       "0   521098   392965    67478    9289    35543   1769     9147     4907   \n",
       "1   619014   549129    10283   10445    34145   1067    11776     2169   \n",
       "2   535920   481566     8774   22011     9141    996    11369     2063   \n",
       "3   623272   546774    16541   12630    33096   1170    10283     2778   \n",
       "4   592576   473462    50531   15055    31797   3776    10964     6991   \n",
       "5   562308   402961    80407    9802    51398   2328     9805     5607   \n",
       "6   612529   540492    13088   14336    29421   1074    11913     2205   \n",
       "7   443607   373314    16519   12058    29288   1181     8725     2522   \n",
       "\n",
       "   LEGCOMMDIF                                           geometry  \n",
       "0     -0.5707  POLYGON ((-104.91282 39.67847, -104.91280 39.6...  \n",
       "1     -0.3428  POLYGON ((-105.00796 40.00579, -105.00833 40.0...  \n",
       "2      0.0913  POLYGON ((-106.50922 39.36230, -106.50238 39.3...  \n",
       "3      0.2659  POLYGON ((-104.66064 39.56592, -104.66022 39.5...  \n",
       "4      0.2022  POLYGON ((-105.07254 38.80841, -105.07238 38.8...  \n",
       "5     -0.1517  POLYGON ((-104.76285 39.80016, -104.76284 39.8...  \n",
       "6     -0.0684  POLYGON ((-105.05328 39.82003, -105.05325 39.8...  \n",
       "7     -0.0133  POLYGON ((-104.90730 40.40722, -104.90730 40.4...  "
      ]
     },
     "execution_count": 92,
     "metadata": {},
     "output_type": "execute_result"
    }
   ],
   "source": [
    "congress_gdf = gpd.read_file('2021_Final_Approved_Congressional_Plan.zip')\n",
    "\n",
    "congress_gdf"
   ]
  },
  {
   "cell_type": "code",
   "execution_count": 93,
   "id": "dc22b655-a774-4ef8-a5ae-1e0b03758f23",
   "metadata": {},
   "outputs": [],
   "source": [
    "#congress_gdf.to_crs( \"epsg:26910\",inplace=True)\n",
    "# transform to EPSG:26910\n",
    "congress_gdf_utm10 = congress_gdf.to_crs(\"epsg:26910\")\n"
   ]
  },
  {
   "cell_type": "code",
   "execution_count": 46,
   "id": "6f5ecf3c-4ef9-4cfa-886f-f92281c18908",
   "metadata": {},
   "outputs": [],
   "source": []
  },
  {
   "cell_type": "code",
   "execution_count": 69,
   "id": "277ba067-cfa7-4a6f-ae19-8972b1c13e66",
   "metadata": {},
   "outputs": [],
   "source": []
  },
  {
   "cell_type": "code",
   "execution_count": 94,
   "id": "70540f68-c9a4-4a25-afa4-8dd6110f7ab7",
   "metadata": {},
   "outputs": [
    {
     "data": {
      "text/html": [
       "<div>\n",
       "<style scoped>\n",
       "    .dataframe tbody tr th:only-of-type {\n",
       "        vertical-align: middle;\n",
       "    }\n",
       "\n",
       "    .dataframe tbody tr th {\n",
       "        vertical-align: top;\n",
       "    }\n",
       "\n",
       "    .dataframe thead th {\n",
       "        text-align: right;\n",
       "    }\n",
       "</style>\n",
       "<table border=\"1\" class=\"dataframe\">\n",
       "  <thead>\n",
       "    <tr style=\"text-align: right;\">\n",
       "      <th></th>\n",
       "      <th>LONGNAME</th>\n",
       "      <th>SHORTNAME</th>\n",
       "      <th>DISTRICT</th>\n",
       "      <th>COLOR</th>\n",
       "      <th>TOTAL</th>\n",
       "      <th>TARGET_DEV</th>\n",
       "      <th>TOTALHISP</th>\n",
       "      <th>TOTALNH</th>\n",
       "      <th>WHITENH</th>\n",
       "      <th>BLACKNH</th>\n",
       "      <th>AIANNH</th>\n",
       "      <th>ASIANNH</th>\n",
       "      <th>HPINH</th>\n",
       "      <th>OTHERNH</th>\n",
       "      <th>MLTMNNH</th>\n",
       "      <th>LEGCOMMDIF</th>\n",
       "      <th>geometry</th>\n",
       "    </tr>\n",
       "  </thead>\n",
       "  <tbody>\n",
       "    <tr>\n",
       "      <th>0</th>\n",
       "      <td>District 1</td>\n",
       "      <td>D1</td>\n",
       "      <td>1</td>\n",
       "      <td>1321400960</td>\n",
       "      <td>721714</td>\n",
       "      <td>0</td>\n",
       "      <td>200616</td>\n",
       "      <td>521098</td>\n",
       "      <td>392965</td>\n",
       "      <td>67478</td>\n",
       "      <td>9289</td>\n",
       "      <td>35543</td>\n",
       "      <td>1769</td>\n",
       "      <td>9147</td>\n",
       "      <td>4907</td>\n",
       "      <td>-0.5707</td>\n",
       "      <td>POLYGON ((2055623.991 4551766.170, 2055625.893...</td>\n",
       "    </tr>\n",
       "    <tr>\n",
       "      <th>1</th>\n",
       "      <td>District 2</td>\n",
       "      <td>D2</td>\n",
       "      <td>2</td>\n",
       "      <td>1808188544</td>\n",
       "      <td>721714</td>\n",
       "      <td>0</td>\n",
       "      <td>102700</td>\n",
       "      <td>619014</td>\n",
       "      <td>549129</td>\n",
       "      <td>10283</td>\n",
       "      <td>10445</td>\n",
       "      <td>34145</td>\n",
       "      <td>1067</td>\n",
       "      <td>11776</td>\n",
       "      <td>2169</td>\n",
       "      <td>-0.3428</td>\n",
       "      <td>POLYGON ((2039777.485 4586669.798, 2039746.172...</td>\n",
       "    </tr>\n",
       "    <tr>\n",
       "      <th>2</th>\n",
       "      <td>District 3</td>\n",
       "      <td>D3</td>\n",
       "      <td>3</td>\n",
       "      <td>-598507392</td>\n",
       "      <td>721714</td>\n",
       "      <td>0</td>\n",
       "      <td>185794</td>\n",
       "      <td>535920</td>\n",
       "      <td>481566</td>\n",
       "      <td>8774</td>\n",
       "      <td>22011</td>\n",
       "      <td>9141</td>\n",
       "      <td>996</td>\n",
       "      <td>11369</td>\n",
       "      <td>2063</td>\n",
       "      <td>0.0913</td>\n",
       "      <td>POLYGON ((1924333.827 4489001.003, 1924927.826...</td>\n",
       "    </tr>\n",
       "    <tr>\n",
       "      <th>3</th>\n",
       "      <td>District 4</td>\n",
       "      <td>D4</td>\n",
       "      <td>4</td>\n",
       "      <td>15382912</td>\n",
       "      <td>721715</td>\n",
       "      <td>1</td>\n",
       "      <td>98443</td>\n",
       "      <td>623272</td>\n",
       "      <td>546774</td>\n",
       "      <td>16541</td>\n",
       "      <td>12630</td>\n",
       "      <td>33096</td>\n",
       "      <td>1170</td>\n",
       "      <td>10283</td>\n",
       "      <td>2778</td>\n",
       "      <td>0.2659</td>\n",
       "      <td>POLYGON ((2080095.373 4543750.614, 2080131.416...</td>\n",
       "    </tr>\n",
       "    <tr>\n",
       "      <th>4</th>\n",
       "      <td>District 5</td>\n",
       "      <td>D5</td>\n",
       "      <td>5</td>\n",
       "      <td>-125815155</td>\n",
       "      <td>721714</td>\n",
       "      <td>0</td>\n",
       "      <td>129138</td>\n",
       "      <td>592576</td>\n",
       "      <td>473462</td>\n",
       "      <td>50531</td>\n",
       "      <td>15055</td>\n",
       "      <td>31797</td>\n",
       "      <td>3776</td>\n",
       "      <td>10964</td>\n",
       "      <td>6991</td>\n",
       "      <td>0.2022</td>\n",
       "      <td>POLYGON ((2061756.293 4451486.512, 2061709.088...</td>\n",
       "    </tr>\n",
       "  </tbody>\n",
       "</table>\n",
       "</div>"
      ],
      "text/plain": [
       "     LONGNAME SHORTNAME  DISTRICT       COLOR   TOTAL  TARGET_DEV  TOTALHISP  \\\n",
       "0  District 1        D1         1  1321400960  721714           0     200616   \n",
       "1  District 2        D2         2  1808188544  721714           0     102700   \n",
       "2  District 3        D3         3  -598507392  721714           0     185794   \n",
       "3  District 4        D4         4    15382912  721715           1      98443   \n",
       "4  District 5        D5         5  -125815155  721714           0     129138   \n",
       "\n",
       "   TOTALNH  WHITENH  BLACKNH  AIANNH  ASIANNH  HPINH  OTHERNH  MLTMNNH  \\\n",
       "0   521098   392965    67478    9289    35543   1769     9147     4907   \n",
       "1   619014   549129    10283   10445    34145   1067    11776     2169   \n",
       "2   535920   481566     8774   22011     9141    996    11369     2063   \n",
       "3   623272   546774    16541   12630    33096   1170    10283     2778   \n",
       "4   592576   473462    50531   15055    31797   3776    10964     6991   \n",
       "\n",
       "   LEGCOMMDIF                                           geometry  \n",
       "0     -0.5707  POLYGON ((2055623.991 4551766.170, 2055625.893...  \n",
       "1     -0.3428  POLYGON ((2039777.485 4586669.798, 2039746.172...  \n",
       "2      0.0913  POLYGON ((1924333.827 4489001.003, 1924927.826...  \n",
       "3      0.2659  POLYGON ((2080095.373 4543750.614, 2080131.416...  \n",
       "4      0.2022  POLYGON ((2061756.293 4451486.512, 2061709.088...  "
      ]
     },
     "execution_count": 94,
     "metadata": {},
     "output_type": "execute_result"
    }
   ],
   "source": [
    "congress_gdf_utm10.head()"
   ]
  },
  {
   "cell_type": "code",
   "execution_count": 34,
   "id": "9a78917c-9c7b-46e0-8326-81b8330e0ff3",
   "metadata": {},
   "outputs": [
    {
     "name": "stdout",
     "output_type": "stream",
     "text": [
      "<class 'geopandas.geoseries.GeoSeries'>\n"
     ]
    },
    {
     "data": {
      "text/plain": [
       "0    POINT (37.309 -107.788)\n",
       "dtype: geometry"
      ]
     },
     "execution_count": 34,
     "metadata": {},
     "output_type": "execute_result"
    }
   ],
   "source": [
    "\n"
   ]
  },
  {
   "cell_type": "code",
   "execution_count": 85,
   "id": "2b8648ec-3b11-46f1-869c-766db9e88ca2",
   "metadata": {},
   "outputs": [],
   "source": [
    "import pandas as pd\n",
    "def point_to_df(lat, lon):\n",
    "\n",
    "\n",
    "    mydict = {'Y': lat,\n",
    "             'X': lon\n",
    "             }\n",
    "    df = pd.DataFrame()\n",
    "    df = df.append(mydict, ignore_index=True)\n",
    "    return df"
   ]
  },
  {
   "cell_type": "code",
   "execution_count": 129,
   "id": "ef4545c4-40b8-40f3-809b-5556474b89ed",
   "metadata": {},
   "outputs": [
    {
     "name": "stderr",
     "output_type": "stream",
     "text": [
      "/var/folders/0b/t65nvlc168zgm2grnbndvd840000gn/T/ipykernel_67832/279461835.py:9: FutureWarning: The frame.append method is deprecated and will be removed from pandas in a future version. Use pandas.concat instead.\n",
      "  df = df.append(mydict, ignore_index=True)\n"
     ]
    },
    {
     "data": {
      "text/html": [
       "<div>\n",
       "<style scoped>\n",
       "    .dataframe tbody tr th:only-of-type {\n",
       "        vertical-align: middle;\n",
       "    }\n",
       "\n",
       "    .dataframe tbody tr th {\n",
       "        vertical-align: top;\n",
       "    }\n",
       "\n",
       "    .dataframe thead th {\n",
       "        text-align: right;\n",
       "    }\n",
       "</style>\n",
       "<table border=\"1\" class=\"dataframe\">\n",
       "  <thead>\n",
       "    <tr style=\"text-align: right;\">\n",
       "      <th></th>\n",
       "      <th>Y</th>\n",
       "      <th>X</th>\n",
       "    </tr>\n",
       "  </thead>\n",
       "  <tbody>\n",
       "    <tr>\n",
       "      <th>0</th>\n",
       "      <td>40.7392</td>\n",
       "      <td>-105.9903</td>\n",
       "    </tr>\n",
       "  </tbody>\n",
       "</table>\n",
       "</div>"
      ],
      "text/plain": [
       "         Y         X\n",
       "0  40.7392 -105.9903"
      ]
     },
     "execution_count": 129,
     "metadata": {},
     "output_type": "execute_result"
    }
   ],
   "source": [
    "lat = 37.209 \n",
    "lon = -107.788\n",
    "lat = 40.7392\n",
    "lon = -105.9903\n",
    "point_df = point_to_df(lat, lon)\n",
    "point_df\n"
   ]
  },
  {
   "cell_type": "code",
   "execution_count": 130,
   "id": "900448ed-a330-47fd-98d7-9d212ed1b3ee",
   "metadata": {},
   "outputs": [
    {
     "data": {
      "text/html": [
       "<div>\n",
       "<style scoped>\n",
       "    .dataframe tbody tr th:only-of-type {\n",
       "        vertical-align: middle;\n",
       "    }\n",
       "\n",
       "    .dataframe tbody tr th {\n",
       "        vertical-align: top;\n",
       "    }\n",
       "\n",
       "    .dataframe thead th {\n",
       "        text-align: right;\n",
       "    }\n",
       "</style>\n",
       "<table border=\"1\" class=\"dataframe\">\n",
       "  <thead>\n",
       "    <tr style=\"text-align: right;\">\n",
       "      <th></th>\n",
       "      <th>Y</th>\n",
       "      <th>X</th>\n",
       "      <th>geometry</th>\n",
       "    </tr>\n",
       "  </thead>\n",
       "  <tbody>\n",
       "    <tr>\n",
       "      <th>0</th>\n",
       "      <td>40.7392</td>\n",
       "      <td>-105.9903</td>\n",
       "      <td>POINT (1939088.549 4651468.152)</td>\n",
       "    </tr>\n",
       "  </tbody>\n",
       "</table>\n",
       "</div>"
      ],
      "text/plain": [
       "         Y         X                         geometry\n",
       "0  40.7392 -105.9903  POINT (1939088.549 4651468.152)"
      ]
     },
     "execution_count": 130,
     "metadata": {},
     "output_type": "execute_result"
    }
   ],
   "source": [
    "# coerce it to a GeoDataFrame\n",
    "point_gdf = gpd.GeoDataFrame(point_df, \n",
    "                               geometry=gpd.points_from_xy(point_df.X, point_df.Y))\n",
    "# define its unprojected (EPSG:4326) CRS\n",
    "point_gdf.crs = \"epsg:4326\"\n",
    "\n",
    "# transform to EPSG:26910\n",
    "point_gdf_utm10 = point_gdf.to_crs( \"epsg:26910\")\n",
    "point_gdf_utm10\n"
   ]
  },
  {
   "cell_type": "code",
   "execution_count": 115,
   "id": "499e7c58-c5b1-4baa-a9c5-9e3453152b31",
   "metadata": {},
   "outputs": [
    {
     "ename": "AttributeError",
     "evalue": "'tuple' object has no attribute 'geometry'",
     "output_type": "error",
     "traceback": [
      "\u001b[0;31m---------------------------------------------------------------------------\u001b[0m",
      "\u001b[0;31mAttributeError\u001b[0m                            Traceback (most recent call last)",
      "Input \u001b[0;32mIn [115]\u001b[0m, in \u001b[0;36m<cell line: 1>\u001b[0;34m()\u001b[0m\n\u001b[1;32m      1\u001b[0m \u001b[38;5;28;01mfor\u001b[39;00m row \u001b[38;5;129;01min\u001b[39;00m congress_gdf_utm10\u001b[38;5;241m.\u001b[39miterrows():\n\u001b[1;32m      2\u001b[0m     \u001b[38;5;66;03m#print(row)\u001b[39;00m\n\u001b[0;32m----> 3\u001b[0m     point_in_district \u001b[38;5;241m=\u001b[39m point_gdf_utm10\u001b[38;5;241m.\u001b[39mwithin(\u001b[43mrow\u001b[49m\u001b[38;5;241;43m.\u001b[39;49m\u001b[43mgeometry\u001b[49m\u001b[38;5;241m.\u001b[39msqueeze())\n\u001b[1;32m      4\u001b[0m     \u001b[38;5;28mprint\u001b[39m(point_in_district)\n",
      "\u001b[0;31mAttributeError\u001b[0m: 'tuple' object has no attribute 'geometry'"
     ]
    }
   ],
   "source": [
    "for row in congress_gdf_utm10.iterrows():\n",
    "    #print(row)\n",
    "    point_in_district = point_gdf_utm10.within(row.geometry.squeeze())\n",
    "    print(point_in_district)"
   ]
  },
  {
   "cell_type": "code",
   "execution_count": 116,
   "id": "9088c90b-d9da-4753-bf43-6e5770d4458c",
   "metadata": {},
   "outputs": [
    {
     "data": {
      "text/html": [
       "<div>\n",
       "<style scoped>\n",
       "    .dataframe tbody tr th:only-of-type {\n",
       "        vertical-align: middle;\n",
       "    }\n",
       "\n",
       "    .dataframe tbody tr th {\n",
       "        vertical-align: top;\n",
       "    }\n",
       "\n",
       "    .dataframe thead th {\n",
       "        text-align: right;\n",
       "    }\n",
       "</style>\n",
       "<table border=\"1\" class=\"dataframe\">\n",
       "  <thead>\n",
       "    <tr style=\"text-align: right;\">\n",
       "      <th></th>\n",
       "      <th>LONGNAME</th>\n",
       "      <th>SHORTNAME</th>\n",
       "      <th>DISTRICT</th>\n",
       "      <th>COLOR</th>\n",
       "      <th>TOTAL</th>\n",
       "      <th>TARGET_DEV</th>\n",
       "      <th>TOTALHISP</th>\n",
       "      <th>TOTALNH</th>\n",
       "      <th>WHITENH</th>\n",
       "      <th>BLACKNH</th>\n",
       "      <th>AIANNH</th>\n",
       "      <th>ASIANNH</th>\n",
       "      <th>HPINH</th>\n",
       "      <th>OTHERNH</th>\n",
       "      <th>MLTMNNH</th>\n",
       "      <th>LEGCOMMDIF</th>\n",
       "      <th>geometry</th>\n",
       "    </tr>\n",
       "  </thead>\n",
       "  <tbody>\n",
       "    <tr>\n",
       "      <th>0</th>\n",
       "      <td>District 1</td>\n",
       "      <td>D1</td>\n",
       "      <td>1</td>\n",
       "      <td>1321400960</td>\n",
       "      <td>721714</td>\n",
       "      <td>0</td>\n",
       "      <td>200616</td>\n",
       "      <td>521098</td>\n",
       "      <td>392965</td>\n",
       "      <td>67478</td>\n",
       "      <td>9289</td>\n",
       "      <td>35543</td>\n",
       "      <td>1769</td>\n",
       "      <td>9147</td>\n",
       "      <td>4907</td>\n",
       "      <td>-0.5707</td>\n",
       "      <td>POLYGON ((2055623.991 4551766.170, 2055625.893...</td>\n",
       "    </tr>\n",
       "    <tr>\n",
       "      <th>1</th>\n",
       "      <td>District 2</td>\n",
       "      <td>D2</td>\n",
       "      <td>2</td>\n",
       "      <td>1808188544</td>\n",
       "      <td>721714</td>\n",
       "      <td>0</td>\n",
       "      <td>102700</td>\n",
       "      <td>619014</td>\n",
       "      <td>549129</td>\n",
       "      <td>10283</td>\n",
       "      <td>10445</td>\n",
       "      <td>34145</td>\n",
       "      <td>1067</td>\n",
       "      <td>11776</td>\n",
       "      <td>2169</td>\n",
       "      <td>-0.3428</td>\n",
       "      <td>POLYGON ((2039777.485 4586669.798, 2039746.172...</td>\n",
       "    </tr>\n",
       "    <tr>\n",
       "      <th>2</th>\n",
       "      <td>District 3</td>\n",
       "      <td>D3</td>\n",
       "      <td>3</td>\n",
       "      <td>-598507392</td>\n",
       "      <td>721714</td>\n",
       "      <td>0</td>\n",
       "      <td>185794</td>\n",
       "      <td>535920</td>\n",
       "      <td>481566</td>\n",
       "      <td>8774</td>\n",
       "      <td>22011</td>\n",
       "      <td>9141</td>\n",
       "      <td>996</td>\n",
       "      <td>11369</td>\n",
       "      <td>2063</td>\n",
       "      <td>0.0913</td>\n",
       "      <td>POLYGON ((1924333.827 4489001.003, 1924927.826...</td>\n",
       "    </tr>\n",
       "    <tr>\n",
       "      <th>3</th>\n",
       "      <td>District 4</td>\n",
       "      <td>D4</td>\n",
       "      <td>4</td>\n",
       "      <td>15382912</td>\n",
       "      <td>721715</td>\n",
       "      <td>1</td>\n",
       "      <td>98443</td>\n",
       "      <td>623272</td>\n",
       "      <td>546774</td>\n",
       "      <td>16541</td>\n",
       "      <td>12630</td>\n",
       "      <td>33096</td>\n",
       "      <td>1170</td>\n",
       "      <td>10283</td>\n",
       "      <td>2778</td>\n",
       "      <td>0.2659</td>\n",
       "      <td>POLYGON ((2080095.373 4543750.614, 2080131.416...</td>\n",
       "    </tr>\n",
       "    <tr>\n",
       "      <th>4</th>\n",
       "      <td>District 5</td>\n",
       "      <td>D5</td>\n",
       "      <td>5</td>\n",
       "      <td>-125815155</td>\n",
       "      <td>721714</td>\n",
       "      <td>0</td>\n",
       "      <td>129138</td>\n",
       "      <td>592576</td>\n",
       "      <td>473462</td>\n",
       "      <td>50531</td>\n",
       "      <td>15055</td>\n",
       "      <td>31797</td>\n",
       "      <td>3776</td>\n",
       "      <td>10964</td>\n",
       "      <td>6991</td>\n",
       "      <td>0.2022</td>\n",
       "      <td>POLYGON ((2061756.293 4451486.512, 2061709.088...</td>\n",
       "    </tr>\n",
       "  </tbody>\n",
       "</table>\n",
       "</div>"
      ],
      "text/plain": [
       "     LONGNAME SHORTNAME  DISTRICT       COLOR   TOTAL  TARGET_DEV  TOTALHISP  \\\n",
       "0  District 1        D1         1  1321400960  721714           0     200616   \n",
       "1  District 2        D2         2  1808188544  721714           0     102700   \n",
       "2  District 3        D3         3  -598507392  721714           0     185794   \n",
       "3  District 4        D4         4    15382912  721715           1      98443   \n",
       "4  District 5        D5         5  -125815155  721714           0     129138   \n",
       "\n",
       "   TOTALNH  WHITENH  BLACKNH  AIANNH  ASIANNH  HPINH  OTHERNH  MLTMNNH  \\\n",
       "0   521098   392965    67478    9289    35543   1769     9147     4907   \n",
       "1   619014   549129    10283   10445    34145   1067    11776     2169   \n",
       "2   535920   481566     8774   22011     9141    996    11369     2063   \n",
       "3   623272   546774    16541   12630    33096   1170    10283     2778   \n",
       "4   592576   473462    50531   15055    31797   3776    10964     6991   \n",
       "\n",
       "   LEGCOMMDIF                                           geometry  \n",
       "0     -0.5707  POLYGON ((2055623.991 4551766.170, 2055625.893...  \n",
       "1     -0.3428  POLYGON ((2039777.485 4586669.798, 2039746.172...  \n",
       "2      0.0913  POLYGON ((1924333.827 4489001.003, 1924927.826...  \n",
       "3      0.2659  POLYGON ((2080095.373 4543750.614, 2080131.416...  \n",
       "4      0.2022  POLYGON ((2061756.293 4451486.512, 2061709.088...  "
      ]
     },
     "execution_count": 116,
     "metadata": {},
     "output_type": "execute_result"
    }
   ],
   "source": [
    "congress_gdf_utm10.head()"
   ]
  },
  {
   "cell_type": "code",
   "execution_count": 112,
   "id": "b7fa51d0-245c-48cb-806d-7b33b20b3a23",
   "metadata": {},
   "outputs": [
    {
     "ename": "KeyError",
     "evalue": "3",
     "output_type": "error",
     "traceback": [
      "\u001b[0;31m---------------------------------------------------------------------------\u001b[0m",
      "\u001b[0;31mKeyError\u001b[0m                                  Traceback (most recent call last)",
      "File \u001b[0;32m~/opt/anaconda3/envs/colorado/lib/python3.8/site-packages/pandas/core/indexes/base.py:3621\u001b[0m, in \u001b[0;36mIndex.get_loc\u001b[0;34m(self, key, method, tolerance)\u001b[0m\n\u001b[1;32m   3620\u001b[0m \u001b[38;5;28;01mtry\u001b[39;00m:\n\u001b[0;32m-> 3621\u001b[0m     \u001b[38;5;28;01mreturn\u001b[39;00m \u001b[38;5;28;43mself\u001b[39;49m\u001b[38;5;241;43m.\u001b[39;49m\u001b[43m_engine\u001b[49m\u001b[38;5;241;43m.\u001b[39;49m\u001b[43mget_loc\u001b[49m\u001b[43m(\u001b[49m\u001b[43mcasted_key\u001b[49m\u001b[43m)\u001b[49m\n\u001b[1;32m   3622\u001b[0m \u001b[38;5;28;01mexcept\u001b[39;00m \u001b[38;5;167;01mKeyError\u001b[39;00m \u001b[38;5;28;01mas\u001b[39;00m err:\n",
      "File \u001b[0;32m~/opt/anaconda3/envs/colorado/lib/python3.8/site-packages/pandas/_libs/index.pyx:136\u001b[0m, in \u001b[0;36mpandas._libs.index.IndexEngine.get_loc\u001b[0;34m()\u001b[0m\n",
      "File \u001b[0;32m~/opt/anaconda3/envs/colorado/lib/python3.8/site-packages/pandas/_libs/index.pyx:163\u001b[0m, in \u001b[0;36mpandas._libs.index.IndexEngine.get_loc\u001b[0;34m()\u001b[0m\n",
      "File \u001b[0;32mpandas/_libs/hashtable_class_helper.pxi:5198\u001b[0m, in \u001b[0;36mpandas._libs.hashtable.PyObjectHashTable.get_item\u001b[0;34m()\u001b[0m\n",
      "File \u001b[0;32mpandas/_libs/hashtable_class_helper.pxi:5206\u001b[0m, in \u001b[0;36mpandas._libs.hashtable.PyObjectHashTable.get_item\u001b[0;34m()\u001b[0m\n",
      "\u001b[0;31mKeyError\u001b[0m: 3",
      "\nThe above exception was the direct cause of the following exception:\n",
      "\u001b[0;31mKeyError\u001b[0m                                  Traceback (most recent call last)",
      "Input \u001b[0;32mIn [112]\u001b[0m, in \u001b[0;36m<cell line: 1>\u001b[0;34m()\u001b[0m\n\u001b[0;32m----> 1\u001b[0m point_in_district \u001b[38;5;241m=\u001b[39m point_gdf_utm10\u001b[38;5;241m.\u001b[39mwithin(\u001b[43mcongress_gdf_utm10\u001b[49m\u001b[43m[\u001b[49m\u001b[38;5;241;43m3\u001b[39;49m\u001b[43m]\u001b[49m\u001b[38;5;241m.\u001b[39mgeometry\u001b[38;5;241m.\u001b[39msqueeze())\n",
      "File \u001b[0;32m~/opt/anaconda3/envs/colorado/lib/python3.8/site-packages/geopandas/geodataframe.py:1327\u001b[0m, in \u001b[0;36mGeoDataFrame.__getitem__\u001b[0;34m(self, key)\u001b[0m\n\u001b[1;32m   1321\u001b[0m \u001b[38;5;28;01mdef\u001b[39;00m \u001b[38;5;21m__getitem__\u001b[39m(\u001b[38;5;28mself\u001b[39m, key):\n\u001b[1;32m   1322\u001b[0m     \u001b[38;5;124;03m\"\"\"\u001b[39;00m\n\u001b[1;32m   1323\u001b[0m \u001b[38;5;124;03m    If the result is a column containing only 'geometry', return a\u001b[39;00m\n\u001b[1;32m   1324\u001b[0m \u001b[38;5;124;03m    GeoSeries. If it's a DataFrame with a 'geometry' column, return a\u001b[39;00m\n\u001b[1;32m   1325\u001b[0m \u001b[38;5;124;03m    GeoDataFrame.\u001b[39;00m\n\u001b[1;32m   1326\u001b[0m \u001b[38;5;124;03m    \"\"\"\u001b[39;00m\n\u001b[0;32m-> 1327\u001b[0m     result \u001b[38;5;241m=\u001b[39m \u001b[38;5;28;43msuper\u001b[39;49m\u001b[43m(\u001b[49m\u001b[43m)\u001b[49m\u001b[38;5;241;43m.\u001b[39;49m\u001b[38;5;21;43m__getitem__\u001b[39;49m\u001b[43m(\u001b[49m\u001b[43mkey\u001b[49m\u001b[43m)\u001b[49m\n\u001b[1;32m   1328\u001b[0m     geo_col \u001b[38;5;241m=\u001b[39m \u001b[38;5;28mself\u001b[39m\u001b[38;5;241m.\u001b[39m_geometry_column_name\n\u001b[1;32m   1329\u001b[0m     \u001b[38;5;28;01mif\u001b[39;00m \u001b[38;5;28misinstance\u001b[39m(result, Series) \u001b[38;5;129;01mand\u001b[39;00m \u001b[38;5;28misinstance\u001b[39m(result\u001b[38;5;241m.\u001b[39mdtype, GeometryDtype):\n",
      "File \u001b[0;32m~/opt/anaconda3/envs/colorado/lib/python3.8/site-packages/pandas/core/frame.py:3505\u001b[0m, in \u001b[0;36mDataFrame.__getitem__\u001b[0;34m(self, key)\u001b[0m\n\u001b[1;32m   3503\u001b[0m \u001b[38;5;28;01mif\u001b[39;00m \u001b[38;5;28mself\u001b[39m\u001b[38;5;241m.\u001b[39mcolumns\u001b[38;5;241m.\u001b[39mnlevels \u001b[38;5;241m>\u001b[39m \u001b[38;5;241m1\u001b[39m:\n\u001b[1;32m   3504\u001b[0m     \u001b[38;5;28;01mreturn\u001b[39;00m \u001b[38;5;28mself\u001b[39m\u001b[38;5;241m.\u001b[39m_getitem_multilevel(key)\n\u001b[0;32m-> 3505\u001b[0m indexer \u001b[38;5;241m=\u001b[39m \u001b[38;5;28;43mself\u001b[39;49m\u001b[38;5;241;43m.\u001b[39;49m\u001b[43mcolumns\u001b[49m\u001b[38;5;241;43m.\u001b[39;49m\u001b[43mget_loc\u001b[49m\u001b[43m(\u001b[49m\u001b[43mkey\u001b[49m\u001b[43m)\u001b[49m\n\u001b[1;32m   3506\u001b[0m \u001b[38;5;28;01mif\u001b[39;00m is_integer(indexer):\n\u001b[1;32m   3507\u001b[0m     indexer \u001b[38;5;241m=\u001b[39m [indexer]\n",
      "File \u001b[0;32m~/opt/anaconda3/envs/colorado/lib/python3.8/site-packages/pandas/core/indexes/base.py:3623\u001b[0m, in \u001b[0;36mIndex.get_loc\u001b[0;34m(self, key, method, tolerance)\u001b[0m\n\u001b[1;32m   3621\u001b[0m     \u001b[38;5;28;01mreturn\u001b[39;00m \u001b[38;5;28mself\u001b[39m\u001b[38;5;241m.\u001b[39m_engine\u001b[38;5;241m.\u001b[39mget_loc(casted_key)\n\u001b[1;32m   3622\u001b[0m \u001b[38;5;28;01mexcept\u001b[39;00m \u001b[38;5;167;01mKeyError\u001b[39;00m \u001b[38;5;28;01mas\u001b[39;00m err:\n\u001b[0;32m-> 3623\u001b[0m     \u001b[38;5;28;01mraise\u001b[39;00m \u001b[38;5;167;01mKeyError\u001b[39;00m(key) \u001b[38;5;28;01mfrom\u001b[39;00m \u001b[38;5;21;01merr\u001b[39;00m\n\u001b[1;32m   3624\u001b[0m \u001b[38;5;28;01mexcept\u001b[39;00m \u001b[38;5;167;01mTypeError\u001b[39;00m:\n\u001b[1;32m   3625\u001b[0m     \u001b[38;5;66;03m# If we have a listlike key, _check_indexing_error will raise\u001b[39;00m\n\u001b[1;32m   3626\u001b[0m     \u001b[38;5;66;03m#  InvalidIndexError. Otherwise we fall through and re-raise\u001b[39;00m\n\u001b[1;32m   3627\u001b[0m     \u001b[38;5;66;03m#  the TypeError.\u001b[39;00m\n\u001b[1;32m   3628\u001b[0m     \u001b[38;5;28mself\u001b[39m\u001b[38;5;241m.\u001b[39m_check_indexing_error(key)\n",
      "\u001b[0;31mKeyError\u001b[0m: 3"
     ]
    }
   ],
   "source": [
    "point_in_district = point_gdf_utm10.within(congress_gdf_utm10.geometry.squeeze())"
   ]
  },
  {
   "cell_type": "code",
   "execution_count": 119,
   "id": "bd9ad3da-a99b-4a5b-8a7a-3028363647d4",
   "metadata": {},
   "outputs": [
    {
     "name": "stderr",
     "output_type": "stream",
     "text": [
      "/Users/marilynwaldman/opt/anaconda3/envs/colorado/lib/python3.8/site-packages/geopandas/base.py:31: UserWarning: The indices of the two GeoSeries are different.\n",
      "  warn(\"The indices of the two GeoSeries are different.\")\n"
     ]
    },
    {
     "data": {
      "text/plain": [
       "0    False\n",
       "1    False\n",
       "2    False\n",
       "3    False\n",
       "4    False\n",
       "5    False\n",
       "6    False\n",
       "7    False\n",
       "dtype: bool"
      ]
     },
     "execution_count": 119,
     "metadata": {},
     "output_type": "execute_result"
    }
   ],
   "source": [
    "bools = congress_gdf_utm10.contains(point_gdf_utm10)\n",
    "bools"
   ]
  },
  {
   "cell_type": "code",
   "execution_count": 118,
   "id": "5686fe08-047b-4b02-9c1b-29f1ecf28d1f",
   "metadata": {},
   "outputs": [
    {
     "data": {
      "text/plain": [
       "0    False\n",
       "1    False\n",
       "2    False\n",
       "3    False\n",
       "4    False\n",
       "5    False\n",
       "6    False\n",
       "7    False\n",
       "dtype: bool"
      ]
     },
     "execution_count": 118,
     "metadata": {},
     "output_type": "execute_result"
    }
   ],
   "source": [
    "point_in_district"
   ]
  },
  {
   "cell_type": "code",
   "execution_count": 131,
   "id": "f8833dbe-967d-4f0e-b8a1-1520baa5340d",
   "metadata": {},
   "outputs": [
    {
     "name": "stderr",
     "output_type": "stream",
     "text": [
      "/Users/marilynwaldman/opt/anaconda3/envs/colorado/lib/python3.8/site-packages/IPython/core/interactiveshell.py:3301: FutureWarning: The `op` parameter is deprecated and will be removed in a future release. Please use the `predicate` parameter instead.\n",
      "  if await self.run_code(code, result, async_=asy):\n"
     ]
    }
   ],
   "source": [
    "#https://stackoverflow.com/questions/62410871/how-do-i-test-if-point-is-in-polygon-multipolygon-with-geopandas-in-python\n",
    "polygons_contains = gpd.sjoin(congress_gdf_utm10,point_gdf_utm10 , op='contains')"
   ]
  },
  {
   "cell_type": "code",
   "execution_count": 132,
   "id": "618bd91c-1e99-484b-8a07-94af47cc54fc",
   "metadata": {},
   "outputs": [
    {
     "data": {
      "text/html": [
       "<div>\n",
       "<style scoped>\n",
       "    .dataframe tbody tr th:only-of-type {\n",
       "        vertical-align: middle;\n",
       "    }\n",
       "\n",
       "    .dataframe tbody tr th {\n",
       "        vertical-align: top;\n",
       "    }\n",
       "\n",
       "    .dataframe thead th {\n",
       "        text-align: right;\n",
       "    }\n",
       "</style>\n",
       "<table border=\"1\" class=\"dataframe\">\n",
       "  <thead>\n",
       "    <tr style=\"text-align: right;\">\n",
       "      <th></th>\n",
       "      <th>LONGNAME</th>\n",
       "      <th>SHORTNAME</th>\n",
       "      <th>DISTRICT</th>\n",
       "      <th>COLOR</th>\n",
       "      <th>TOTAL</th>\n",
       "      <th>TARGET_DEV</th>\n",
       "      <th>TOTALHISP</th>\n",
       "      <th>TOTALNH</th>\n",
       "      <th>WHITENH</th>\n",
       "      <th>BLACKNH</th>\n",
       "      <th>AIANNH</th>\n",
       "      <th>ASIANNH</th>\n",
       "      <th>HPINH</th>\n",
       "      <th>OTHERNH</th>\n",
       "      <th>MLTMNNH</th>\n",
       "      <th>LEGCOMMDIF</th>\n",
       "      <th>geometry</th>\n",
       "      <th>index_right</th>\n",
       "      <th>Y</th>\n",
       "      <th>X</th>\n",
       "    </tr>\n",
       "  </thead>\n",
       "  <tbody>\n",
       "    <tr>\n",
       "      <th>1</th>\n",
       "      <td>District 2</td>\n",
       "      <td>D2</td>\n",
       "      <td>2</td>\n",
       "      <td>1808188544</td>\n",
       "      <td>721714</td>\n",
       "      <td>0</td>\n",
       "      <td>102700</td>\n",
       "      <td>619014</td>\n",
       "      <td>549129</td>\n",
       "      <td>10283</td>\n",
       "      <td>10445</td>\n",
       "      <td>34145</td>\n",
       "      <td>1067</td>\n",
       "      <td>11776</td>\n",
       "      <td>2169</td>\n",
       "      <td>-0.3428</td>\n",
       "      <td>POLYGON ((2039777.485 4586669.798, 2039746.172...</td>\n",
       "      <td>0</td>\n",
       "      <td>40.7392</td>\n",
       "      <td>-105.9903</td>\n",
       "    </tr>\n",
       "  </tbody>\n",
       "</table>\n",
       "</div>"
      ],
      "text/plain": [
       "     LONGNAME SHORTNAME  DISTRICT       COLOR   TOTAL  TARGET_DEV  TOTALHISP  \\\n",
       "1  District 2        D2         2  1808188544  721714           0     102700   \n",
       "\n",
       "   TOTALNH  WHITENH  BLACKNH  AIANNH  ASIANNH  HPINH  OTHERNH  MLTMNNH  \\\n",
       "1   619014   549129    10283   10445    34145   1067    11776     2169   \n",
       "\n",
       "   LEGCOMMDIF                                           geometry  index_right  \\\n",
       "1     -0.3428  POLYGON ((2039777.485 4586669.798, 2039746.172...            0   \n",
       "\n",
       "         Y         X  \n",
       "1  40.7392 -105.9903  "
      ]
     },
     "execution_count": 132,
     "metadata": {},
     "output_type": "execute_result"
    }
   ],
   "source": [
    "polygons_contains"
   ]
  },
  {
   "cell_type": "code",
   "execution_count": 134,
   "id": "4c8455e7-cf93-4da7-9f2e-2eb92d7058bf",
   "metadata": {},
   "outputs": [
    {
     "data": {
      "text/plain": [
       "1    District 2\n",
       "Name: LONGNAME, dtype: object"
      ]
     },
     "execution_count": 134,
     "metadata": {},
     "output_type": "execute_result"
    }
   ],
   "source": [
    "polygons_contains['LONGNAME']"
   ]
  },
  {
   "cell_type": "code",
   "execution_count": 135,
   "id": "898a2f6b-2f34-4702-bad9-a7a91436d7ab",
   "metadata": {},
   "outputs": [],
   "source": [
    "x = polygons_contains['LONGNAME']"
   ]
  },
  {
   "cell_type": "code",
   "execution_count": 136,
   "id": "a6194c6c-ccd8-4146-bdec-25cf97ea53a4",
   "metadata": {},
   "outputs": [
    {
     "data": {
      "text/plain": [
       "1    District 2\n",
       "Name: LONGNAME, dtype: object"
      ]
     },
     "execution_count": 136,
     "metadata": {},
     "output_type": "execute_result"
    }
   ],
   "source": [
    "x"
   ]
  },
  {
   "cell_type": "code",
   "execution_count": 137,
   "id": "fe7f9aff-3fcb-4f67-b790-a5b7ddaa12ab",
   "metadata": {},
   "outputs": [
    {
     "name": "stdout",
     "output_type": "stream",
     "text": [
      "<class 'pandas.core.series.Series'>\n"
     ]
    }
   ],
   "source": [
    "print(type(x))"
   ]
  },
  {
   "cell_type": "code",
   "execution_count": 138,
   "id": "3deff730-9b04-4eec-addf-74dc708e1323",
   "metadata": {},
   "outputs": [],
   "source": [
    "list = x.tolist()"
   ]
  },
  {
   "cell_type": "code",
   "execution_count": 139,
   "id": "c6c2084a-91ea-4e53-86f2-71642dfbfcb4",
   "metadata": {},
   "outputs": [
    {
     "data": {
      "text/plain": [
       "['District 2']"
      ]
     },
     "execution_count": 139,
     "metadata": {},
     "output_type": "execute_result"
    }
   ],
   "source": [
    "list"
   ]
  },
  {
   "cell_type": "code",
   "execution_count": null,
   "id": "dbc2a4a0-f878-456c-b2a6-73d4891b2d02",
   "metadata": {},
   "outputs": [],
   "source": []
  }
 ],
 "metadata": {
  "kernelspec": {
   "display_name": "Python 3 (ipykernel)",
   "language": "python",
   "name": "python3"
  },
  "language_info": {
   "codemirror_mode": {
    "name": "ipython",
    "version": 3
   },
   "file_extension": ".py",
   "mimetype": "text/x-python",
   "name": "python",
   "nbconvert_exporter": "python",
   "pygments_lexer": "ipython3",
   "version": "3.8.12"
  }
 },
 "nbformat": 4,
 "nbformat_minor": 5
}
